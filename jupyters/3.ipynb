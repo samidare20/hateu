{
 "cells": [
  {
   "cell_type": "code",
   "execution_count": 6,
   "id": "3c0ea010",
   "metadata": {
    "vscode": {
     "languageId": "shellscript"
    }
   },
   "outputs": [
    {
     "name": "stderr",
     "output_type": "stream",
     "text": [
      "79.09s - pydevd: Sending message related to process being replaced timed-out after 5 seconds\n"
     ]
    },
    {
     "name": "stdout",
     "output_type": "stream",
     "text": [
      "Reading package lists... Done\n",
      "Building dependency tree... Done\n",
      "Reading state information... Done\n",
      "curl is already the newest version (8.5.0-2ubuntu10.6).\n",
      "0 upgraded, 0 newly installed, 0 to remove and 63 not upgraded.\n"
     ]
    }
   ],
   "source": [
    "!sudo apt install curl"
   ]
  },
  {
   "cell_type": "code",
   "execution_count": 8,
   "id": "f66184c4",
   "metadata": {
    "vscode": {
     "languageId": "shellscript"
    }
   },
   "outputs": [
    {
     "name": "stderr",
     "output_type": "stream",
     "text": [
      "112.09s - pydevd: Sending message related to process being replaced timed-out after 5 seconds\n"
     ]
    },
    {
     "name": "stdout",
     "output_type": "stream",
     "text": [
      "{\n",
      "  \"origin\": \"23.97.62.132\"\n",
      "}\n"
     ]
    },
    {
     "name": "stderr",
     "output_type": "stream",
     "text": [
      "117.74s - pydevd: Sending message related to process being replaced timed-out after 5 seconds\n"
     ]
    },
    {
     "name": "stdout",
     "output_type": "stream",
     "text": [
      "{\n",
      "  \"args\": {}, \n",
      "  \"headers\": {\n",
      "    \"Accept\": \"*/*\", \n",
      "    \"Host\": \"httpbin.org\", \n",
      "    \"User-Agent\": \"curl/8.5.0\", \n",
      "    \"X-Amzn-Trace-Id\": \"Root=1-68cba9ea-5751966c006921e36c386396\"\n",
      "  }, \n",
      "  \"origin\": \"23.97.62.132\", \n",
      "  \"url\": \"http://httpbin.org/get\"\n",
      "}\n"
     ]
    }
   ],
   "source": [
    "!curl http://httpbin.org/ip\n",
    "!curl http://httpbin.org/get"
   ]
  },
  {
   "cell_type": "code",
   "execution_count": 23,
   "id": "5f09c567",
   "metadata": {
    "vscode": {
     "languageId": "shellscript"
    }
   },
   "outputs": [
    {
     "name": "stderr",
     "output_type": "stream",
     "text": [
      "3427.73s - pydevd: Sending message related to process being replaced timed-out after 5 seconds\n"
     ]
    },
    {
     "name": "stdout",
     "output_type": "stream",
     "text": [
      "Requirement already satisfied: requests in ./myenv/lib/python3.12/site-packages (2.32.5)\n",
      "Requirement already satisfied: charset_normalizer<4,>=2 in ./myenv/lib/python3.12/site-packages (from requests) (3.4.3)\n",
      "Requirement already satisfied: idna<4,>=2.5 in ./myenv/lib/python3.12/site-packages (from requests) (3.10)\n",
      "Requirement already satisfied: urllib3<3,>=1.21.1 in ./myenv/lib/python3.12/site-packages (from requests) (2.5.0)\n",
      "Requirement already satisfied: certifi>=2017.4.17 in ./myenv/lib/python3.12/site-packages (from requests) (2025.8.3)\n",
      "\n",
      "\u001b[1m[\u001b[0m\u001b[34;49mnotice\u001b[0m\u001b[1;39;49m]\u001b[0m\u001b[39;49m A new release of pip is available: \u001b[0m\u001b[31;49m23.2.1\u001b[0m\u001b[39;49m -> \u001b[0m\u001b[32;49m25.2\u001b[0m\n",
      "\u001b[1m[\u001b[0m\u001b[34;49mnotice\u001b[0m\u001b[1;39;49m]\u001b[0m\u001b[39;49m To update, run: \u001b[0m\u001b[32;49mpip install --upgrade pip\u001b[0m\n"
     ]
    },
    {
     "name": "stderr",
     "output_type": "stream",
     "text": [
      "3433.97s - pydevd: Sending message related to process being replaced timed-out after 5 seconds\n"
     ]
    },
    {
     "name": "stdout",
     "output_type": "stream",
     "text": [
      "Requirement already satisfied: lxml in ./myenv/lib/python3.12/site-packages (6.0.1)\n",
      "\n",
      "\u001b[1m[\u001b[0m\u001b[34;49mnotice\u001b[0m\u001b[1;39;49m]\u001b[0m\u001b[39;49m A new release of pip is available: \u001b[0m\u001b[31;49m23.2.1\u001b[0m\u001b[39;49m -> \u001b[0m\u001b[32;49m25.2\u001b[0m\n",
      "\u001b[1m[\u001b[0m\u001b[34;49mnotice\u001b[0m\u001b[1;39;49m]\u001b[0m\u001b[39;49m To update, run: \u001b[0m\u001b[32;49mpip install --upgrade pip\u001b[0m\n"
     ]
    },
    {
     "name": "stderr",
     "output_type": "stream",
     "text": [
      "3440.27s - pydevd: Sending message related to process being replaced timed-out after 5 seconds\n"
     ]
    },
    {
     "name": "stdout",
     "output_type": "stream",
     "text": [
      "Requirement already satisfied: pip in ./myenv/lib/python3.12/site-packages (23.2.1)\n",
      "Collecting pip\n",
      "  Obtaining dependency information for pip from https://files.pythonhosted.org/packages/b7/3f/945ef7ab14dc4f9d7f40288d2df998d1837ee0888ec3659c813487572faa/pip-25.2-py3-none-any.whl.metadata\n",
      "  Downloading pip-25.2-py3-none-any.whl.metadata (4.7 kB)\n",
      "Downloading pip-25.2-py3-none-any.whl (1.8 MB)\n",
      "\u001b[2K   \u001b[90m━━━━━━━━━━━━━━━━━━━━━━━━━━━━━━━━━━━━━━━━\u001b[0m \u001b[32m1.8/1.8 MB\u001b[0m \u001b[31m27.3 MB/s\u001b[0m eta \u001b[36m0:00:00\u001b[0ma \u001b[36m0:00:01\u001b[0m\n",
      "\u001b[?25hInstalling collected packages: pip\n",
      "  Attempting uninstall: pip\n",
      "    Found existing installation: pip 23.2.1\n",
      "    Uninstalling pip-23.2.1:\n",
      "      Successfully uninstalled pip-23.2.1\n",
      "Successfully installed pip-25.2\n"
     ]
    }
   ],
   "source": [
    "!pip install requests\n",
    "!pip install lxml\n",
    "!pip install --upgrade pip"
   ]
  },
  {
   "cell_type": "code",
   "execution_count": 19,
   "id": "6d1079df",
   "metadata": {
    "vscode": {
     "languageId": "shellscript"
    }
   },
   "outputs": [
    {
     "name": "stdout",
     "output_type": "stream",
     "text": [
      "200\n",
      "404\n",
      "{'args': {}, 'data': '', 'files': {}, 'form': {'name': 'js'}, 'headers': {'Accept': '*/*', 'Accept-Encoding': 'gzip, deflate', 'Content-Length': '7', 'Content-Type': 'application/x-www-form-urlencoded', 'Host': 'httpbin.org', 'User-Agent': 'python-requests/2.32.5', 'X-Amzn-Trace-Id': 'Root=1-68cbb657-2b04babf5cc97c5f3fcd0ca4'}, 'json': None, 'origin': '23.97.62.132', 'url': 'http://httpbin.org/post'}\n",
      "{'Date': 'Thu, 18 Sep 2025 07:35:51 GMT', 'Content-Type': 'text/html; charset=utf-8', 'Content-Length': '9593', 'Connection': 'keep-alive', 'Server': 'gunicorn/19.9.0', 'Access-Control-Allow-Origin': '*', 'Access-Control-Allow-Credentials': 'true'}\n",
      "text/html; charset=utf-8\n"
     ]
    }
   ],
   "source": [
    "import requests\n",
    "r=requests.options(\"http://httpbin.org/\")\n",
    "print(r.status_code)\n",
    "r=requests.get(\"http://httpbin.org/status/404\")\n",
    "print(r.status_code)\n",
    "r=requests.post(\"http://httpbin.org/post\",data={\"name\":\"js\"})\n",
    "print(r.json())\n",
    "r=requests.head(\"http://httpbin.org/\")\n",
    "print(r.headers)\n",
    "print(r.headers['Content-Type'])"
   ]
  },
  {
   "cell_type": "code",
   "execution_count": 20,
   "id": "3f3099e1",
   "metadata": {
    "vscode": {
     "languageId": "shellscript"
    }
   },
   "outputs": [],
   "source": [
    "input = '''\n",
    "<students>               # root 태그는 하나만 허용.\n",
    "    <student x=\"1\">      # 속성은 시작태그에 적고, key=\"value\"로 구성. value는 따옴표.\n",
    "        <id>001</id>     # 계층적으로 태그 구성.\n",
    "        <name>Kim</name>\n",
    "    </student>\n",
    "    <student x=\"2\">\n",
    "        <id>002</id>\n",
    "        <name>Lee</name>\n",
    "    </student>\n",
    "</students>\n",
    "'''\n"
   ]
  },
  {
   "cell_type": "code",
   "execution_count": null,
   "id": "8011db27",
   "metadata": {
    "vscode": {
     "languageId": "shellscript"
    }
   },
   "outputs": [
    {
     "name": "stdout",
     "output_type": "stream",
     "text": [
      "<Element students at 0x751563f8dc40>\n",
      "<lxml.etree._ElementTree object at 0x751563f8c980>\n"
     ]
    }
   ],
   "source": [
    "import lxml.etree\n",
    "from io import StringIO\n",
    "root=lxml.etree.fromstring(input)\n",
    "tree=lxml.etree.parse(StringIO(input))\n",
    "root=tree.getroot()\n",
    "print(root)\n",
    "print(tree)"
   ]
  },
  {
   "cell_type": "code",
   "execution_count": 31,
   "id": "1f0a42d6",
   "metadata": {
    "vscode": {
     "languageId": "shellscript"
    }
   },
   "outputs": [
    {
     "name": "stdout",
     "output_type": "stream",
     "text": [
      "Writing ds_open_hello.xml\n"
     ]
    }
   ],
   "source": [
    "%%writefile ds_open_hello.xml\n",
    "<students>\n",
    "<student x=\"1\">\n",
    "    <id>001</id>\n",
    "    <name>Kim</name>\n",
    "</student>\n",
    "<student x=\"2\">\n",
    "    <id>002</id>\n",
    "    <name>Lee</name>\n",
    "</student>\n",
    "</students>"
   ]
  },
  {
   "cell_type": "code",
   "execution_count": 43,
   "id": "ff595e85",
   "metadata": {
    "vscode": {
     "languageId": "shellscript"
    }
   },
   "outputs": [
    {
     "name": "stdout",
     "output_type": "stream",
     "text": [
      "students\n",
      "{}\n",
      "id => 001\n",
      "name => Kim\n",
      "id => 002\n",
      "name => Lee\n",
      "['1', '2']\n",
      "['001']\n"
     ]
    }
   ],
   "source": [
    "import os\n",
    "tree=lxml.etree.parse(os.path.join('./','ds_open_hello.xml')) # 파일에서 읽기\n",
    "root=tree.getroot()\n",
    "print(root.tag)\n",
    "print(root.attrib)\n",
    "for ee in root.getchildren():    # 하위 요소를 읽음\n",
    "    for e in ee.getchildren():   # 하위의 하위 요소를 읽음\n",
    "        if not e.text:\n",
    "            text = \"None\"\n",
    "        else:\n",
    "            text = e.text\n",
    "        print(e.tag + \" => \" + text)\n",
    "\n",
    "print(root.xpath('//@x'))\n",
    "print(root.xpath('//*[@x=\"1\"]/id/text()'))"
   ]
  },
  {
   "cell_type": "code",
   "execution_count": 44,
   "id": "733cd7fa",
   "metadata": {
    "vscode": {
     "languageId": "shellscript"
    }
   },
   "outputs": [],
   "source": [
    "input = '''[\n",
    "    { \"id\" : \"001\", \"x\" : \"2\", \"name\" : \"Chuck\"},\n",
    "    { \"id\" : \"009\",\"x\" : \"7\",\"name\" : \"Brent\" }\n",
    "]'''"
   ]
  },
  {
   "cell_type": "code",
   "execution_count": 46,
   "id": "59835a5c",
   "metadata": {
    "vscode": {
     "languageId": "shellscript"
    }
   },
   "outputs": [
    {
     "name": "stdout",
     "output_type": "stream",
     "text": [
      "User count:2\n",
      "{'id': '001', 'x': '2', 'name': 'Chuck'}\n",
      "id: 001 \tname: Chuck\n",
      "id: 009 \tname: Brent\n"
     ]
    }
   ],
   "source": [
    "import json\n",
    "\n",
    "info = json.loads(input)\n",
    "print('User count:{}'.format(len(info)))\n",
    "print(info[0])\n",
    "for item in info:\n",
    "    print (\"id: {} \\tname: {}\".format(item['id'], item['name']))"
   ]
  },
  {
   "cell_type": "code",
   "execution_count": 2,
   "id": "a8768440",
   "metadata": {
    "vscode": {
     "languageId": "shellscript"
    }
   },
   "outputs": [
    {
     "name": "stdout",
     "output_type": "stream",
     "text": [
      "Overwriting ./src/key.properties\n"
     ]
    }
   ],
   "source": [
    "%%writefile ./src/key.properties\n",
    "dataseoul=73725974496a736c34395757705847\n",
    "gokr=DRcvXV9pTVecnxe3K%2BG5G6CWZQM0BsXkQThwxpjDsnnyM9QIAuL89RLupk4dDmxk3BgWnfAJSQ%2B4atSNvIDA8g%3D%3D"
   ]
  },
  {
   "cell_type": "code",
   "execution_count": 3,
   "id": "da4a1829",
   "metadata": {
    "vscode": {
     "languageId": "shellscript"
    }
   },
   "outputs": [
    {
     "name": "stdout",
     "output_type": "stream",
     "text": [
      "Writing src/mylib.py\n"
     ]
    }
   ],
   "source": [
    "%%writefile src/mylib.py\n",
    "def sayHello():\n",
    "    print(\"hello\")\n",
    "\n",
    "def getKey(keyPath):\n",
    "    d=dict()\n",
    "    f=open(keyPath,'r')\n",
    "    for line in f.readlines():\n",
    "        row=line.split('=')\n",
    "        row0=row[0]\n",
    "        d[row0]=row[1].strip()\n",
    "    f.close()\n",
    "    return d"
   ]
  },
  {
   "cell_type": "code",
   "execution_count": null,
   "id": "c0240bc7",
   "metadata": {
    "vscode": {
     "languageId": "shellscript"
    }
   },
   "outputs": [],
   "source": [
    "import os\n",
    "import src.mylib\n",
    "\n",
    "KP=os.path.join(os.getcwd(), 'src', 'key.properties')\n",
    "key=src.mylib.getKey(\"./src/key.properties\")\n",
    "KEY=str(key['dataseoul'])"
   ]
  },
  {
   "cell_type": "code",
   "execution_count": null,
   "metadata": {
    "vscode": {
     "languageId": "shellscript"
    }
   },
   "outputs": [
    {
     "name": "stdout",
     "output_type": "stream",
     "text": [
      "/json/SearchSTNBySubwayLineInfo/1/10///2\n",
      "http://openAPI.seoul.go.kr:8088/73725974496a736c34395757705847/json/SearchSTNBySubwayLineInfo/1/10/2\n"
     ]
    }
   ],
   "source": [
    "TYPE='json'\n",
    "SERVICE='SearchSTNBySubwayLineInfo'\n",
    "START_INDEX=str(1)\n",
    "END_INDEX=str(10)\n",
    "LINE_NUM=str(2)\n",
    "params=\"/\".join([KEY,TYPE,SERVICE,START_INDEX,END_INDEX,'','',LINE_NUM])\n",
    "print(params[30:])\n",
    "\n"
   ]
  },
  {
   "cell_type": "code",
   "execution_count": 55,
   "id": "42144afc",
   "metadata": {
    "vscode": {
     "languageId": "shellscript"
    }
   },
   "outputs": [
    {
     "name": "stdout",
     "output_type": "stream",
     "text": [
      "http://openAPI.seoul.go.kr:8088/73725974496a736c34395757705847/json/SearchSTNBySubwayLineInfo/1/10///2\n",
      "{'SearchSTNBySubwayLineInfo': {'list_total_count': 799, 'RESULT': {'CODE': 'INFO-000', 'MESSAGE': '정상 처리되었습니다'}, 'row': [{'STATION_CD': '1722', 'STATION_NM': '서정리', 'STATION_NM_ENG': 'Seojeong-ri', 'LINE_NUM': '01호선', 'FR_CODE': 'P163', 'STATION_NM_CHN': '西井里', 'STATION_NM_JPN': 'ソジョンニ'}, {'STATION_CD': '1724', 'STATION_NM': '평택', 'STATION_NM_ENG': 'Pyeongtaek', 'LINE_NUM': '01호선', 'FR_CODE': 'P165', 'STATION_NM_CHN': '平泽', 'STATION_NM_JPN': 'ピョンテク'}, {'STATION_CD': '1701', 'STATION_NM': '구로', 'STATION_NM_ENG': 'Guro', 'LINE_NUM': '01호선', 'FR_CODE': '141', 'STATION_NM_CHN': '九老', 'STATION_NM_JPN': 'クロ'}, {'STATION_CD': '1002', 'STATION_NM': '남영', 'STATION_NM_ENG': 'Namyeong', 'LINE_NUM': '01호선', 'FR_CODE': '134', 'STATION_NM_CHN': '南营', 'STATION_NM_JPN': 'ナミョン'}, {'STATION_CD': '0159', 'STATION_NM': '동묘앞', 'STATION_NM_ENG': 'Dongmyo', 'LINE_NUM': '01호선', 'FR_CODE': '127', 'STATION_NM_CHN': '东庙', 'STATION_NM_JPN': 'トンミョアプ'}, {'STATION_CD': '1906', 'STATION_NM': '의정부', 'STATION_NM_ENG': 'Uijeongbu', 'LINE_NUM': '01호선', 'FR_CODE': '110', 'STATION_NM_CHN': '议政府', 'STATION_NM_JPN': 'ウィジョンブ'}, {'STATION_CD': '1905', 'STATION_NM': '회룡', 'STATION_NM_ENG': 'Hoeryong', 'LINE_NUM': '01호선', 'FR_CODE': '111', 'STATION_NM_CHN': '回龙', 'STATION_NM_JPN': 'フェリョン'}, {'STATION_CD': '1902', 'STATION_NM': '도봉', 'STATION_NM_ENG': 'Dobong', 'LINE_NUM': '01호선', 'FR_CODE': '114', 'STATION_NM_CHN': '道峰', 'STATION_NM_JPN': 'トボン'}, {'STATION_CD': '1801', 'STATION_NM': '개봉', 'STATION_NM_ENG': 'Gaebong', 'LINE_NUM': '01호선', 'FR_CODE': '143', 'STATION_NM_CHN': '开峰', 'STATION_NM_JPN': 'ケボン'}, {'STATION_CD': '1918', 'STATION_NM': '전곡', 'STATION_NM_ENG': 'Jeongok', 'LINE_NUM': '01호선', 'FR_CODE': '100-2', 'STATION_NM_CHN': '全谷', 'STATION_NM_JPN': 'チョンゴク'}]}}\n"
     ]
    }
   ],
   "source": [
    "import requests\n",
    "import urllib\n",
    "\n",
    "_url='http://openAPI.seoul.go.kr:8088'\n",
    "url=\"/\".join([_url,params])\n",
    "\n",
    "print (url)\n",
    "r=requests.get(url)\n",
    "stations=r.json()\n",
    "print (stations)\n",
    "\n"
   ]
  },
  {
   "cell_type": "code",
   "execution_count": 8,
   "id": "bb6fad0c",
   "metadata": {
    "vscode": {
     "languageId": "shellscript"
    }
   },
   "outputs": [
    {
     "name": "stdout",
     "output_type": "stream",
     "text": [
      "<?xml version=\"1.0\" encoding=\"UTF-8\"?>\n",
      "<SearchSTNBySubwayLineInfo>\n",
      "<list_total_count>799</list_total_count>\n",
      "<RESULT>\n",
      "<CODE>INFO-000</CODE>\n",
      "<MESSAGE>정상 처리되었습니다</MESSAGE>\n",
      "</RESULT>\n",
      "<row>\n",
      "<STATION_CD>1722</STATION_CD>\n",
      "<STATION_NM>서정리</STATION_NM>\n",
      "<STATION_NM_ENG>Seojeong-ri</STATION_NM_ENG>\n",
      "<LINE_NUM>01호선</LINE_NUM>\n",
      "<FR_CODE>P163</FR_CODE>\n",
      "<STATION_NM_CHN>西井里</STATION_NM_CHN>\n",
      "<STATION_NM_JPN>ソジョンニ</STATION_NM_JPN>\n",
      "</row>\n",
      "<row>\n",
      "<STATION_CD>1725</STATION_CD>\n",
      "<STATION_NM>성환</STATION_NM>\n",
      "<STATION_NM_ENG>Seonghwan</STATION_NM_ENG>\n",
      "<LINE_NUM>01호선</LINE_NUM>\n",
      "<FR_CODE>P166</FR_CODE>\n",
      "<STATION_NM_CHN>成欢</STATION_NM_CHN>\n",
      "<STATION_NM_JPN>ソンファン</STATION_NM_JPN>\n",
      "</row>\n",
      "<row>\n",
      "<STATION_CD>1724</STATION_CD>\n",
      "<STATION_NM>평택</STATION_NM>\n",
      "<STATION_NM_ENG>Pyeongtaek</STATION_NM_ENG>\n",
      "<LINE_NUM>01호선</LINE_NUM>\n",
      "<FR_CODE>P165</FR_CODE>\n",
      "<STATION_NM_CHN>平泽</STATION_NM_CHN>\n",
      "<STATION_NM_JPN>ピョンテク</STATION_NM_JPN>\n",
      "</row>\n",
      "<row>\n",
      "<STATION_CD>1701</STATION_CD>\n",
      "<STATION_NM>구로</STATION_NM>\n",
      "<STATION_NM_ENG>Guro</STATION_NM_ENG>\n",
      "<LINE_NUM>01호선</LINE_NUM>\n",
      "<FR_CODE>141</FR_CODE>\n",
      "<STATION_NM_CHN>九老</STATION_NM_CHN>\n",
      "<STATION_NM_JPN>クロ</STATION_NM_JPN>\n",
      "</row>\n",
      "<row>\n",
      "<STATION_CD>1906</STATION_CD>\n",
      "<STATION_NM>의정부</STATION_NM>\n",
      "<STATION_NM_ENG>Uijeongbu</STATION_NM_ENG>\n",
      "<LINE_NUM>01호선</LINE_NUM>\n",
      "<FR_CODE>110</FR_CODE>\n",
      "<STATION_NM_CHN>议政府</STATION_NM_CHN>\n",
      "<STATION_NM_JPN>ウィジョンブ</STATION_NM_JPN>\n",
      "</row>\n",
      "</SearchSTNBySubwayLineInfo>\n",
      "\n",
      "서정리\n",
      "성환\n",
      "평택\n",
      "구로\n",
      "의정부\n"
     ]
    }
   ],
   "source": [
    "import requests\n",
    "import lxml\n",
    "import lxml.etree\n",
    "\n",
    "url='http://openapi.seoul.go.kr:8088/7a70506358646f6c313132747a775554/xml/SearchSTNBySubwayLineInfo/1/5/'\n",
    "data=requests.get(url).text\n",
    "tree=lxml.etree.fromstring(data.encode('utf-8'))\n",
    "\n",
    "print(data)\n",
    "\n",
    "for node in tree.xpath('//STATION_NM'):\n",
    "    print (node.text)"
   ]
  }
 ],
 "metadata": {
  "kernelspec": {
   "display_name": "myenv",
   "language": "python",
   "name": "myenv"
  },
  "language_info": {
   "codemirror_mode": {
    "name": "ipython",
    "version": 3
   },
   "file_extension": ".py",
   "mimetype": "text/x-python",
   "name": "python",
   "nbconvert_exporter": "python",
   "pygments_lexer": "ipython3",
   "version": "3.12.1"
  }
 },
 "nbformat": 4,
 "nbformat_minor": 5
}
