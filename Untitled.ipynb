{
 "cells": [
  {
   "cell_type": "code",
   "execution_count": 41,
   "id": "4c689e00-e200-45b8-ad94-3f987b2228c9",
   "metadata": {},
   "outputs": [
    {
     "name": "stdout",
     "output_type": "stream",
     "text": [
      "3\n",
      "2\n",
      "15\n",
      "1.5\n"
     ]
    }
   ],
   "source": [
    "import operator\n",
    "print(operator.add(1, 2)) \n",
    "print(operator.sub(5, 3))  \n",
    "print(operator.mul(5, 3))  \n",
    "print(operator.truediv(6, 4))"
   ]
  },
  {
   "cell_type": "code",
   "execution_count": 17,
   "id": "92ac42cb-6502-421f-a3d0-cdde8e7270fe",
   "metadata": {},
   "outputs": [
    {
     "name": "stdout",
     "output_type": "stream",
     "text": [
      "False\n",
      "<class 'bool'>\n"
     ]
    }
   ],
   "source": [
    "print(3>4)\n",
    "bigger=3>4\n",
    "print(type(bigger))"
   ]
  },
  {
   "cell_type": "code",
   "execution_count": 18,
   "id": "1a627cd7-8523-49bc-a0d2-e50e6f736b2a",
   "metadata": {},
   "outputs": [
    {
     "name": "stdout",
     "output_type": "stream",
     "text": [
      "today is warm\n",
      "today is sunny\n",
      "today is beautiful\n",
      "0 warm\n",
      "1 sunny\n",
      "2 beautiful\n"
     ]
    }
   ],
   "source": [
    "for word in ('warm','sunny','beautiful'):\n",
    "    print('today is %s'% word)\n",
    "\n",
    "words=['warm','sunny','beautiful']\n",
    "for index, item in enumerate(words):\n",
    "   print(index, item)"
   ]
  },
  {
   "cell_type": "code",
   "execution_count": 19,
   "id": "bc1564bc-d6f1-433b-82dd-19e2ee67c6cd",
   "metadata": {},
   "outputs": [
    {
     "name": "stdout",
     "output_type": "stream",
     "text": [
      "[1, 2, 3, 4, 5]\n",
      "55\n"
     ]
    }
   ],
   "source": [
    "print([x for x in [1, 2, 3, 4, 5]])\n",
    "\n",
    "print(sum([x*x for x in [1,2,3,4,5]]))"
   ]
  },
  {
   "cell_type": "code",
   "execution_count": 21,
   "id": "002e2dd5-b5be-44b1-92ec-e1772b0a7434",
   "metadata": {},
   "outputs": [
    {
     "name": "stdout",
     "output_type": "stream",
     "text": [
      "<class 'list'>\n",
      "myList:  [1, 2, 3, 4, 5]\n",
      "3\n",
      "5\n",
      "[3, 4]\n",
      "[4, 5]\n",
      "[1, 2, 3]\n",
      "[1, 3, 5]\n"
     ]
    }
   ],
   "source": [
    "myList=[1,2,3,4,5]\n",
    "print(type(myList))\n",
    "print(\"myList: \", myList)\n",
    "\n",
    "print(myList[2])      \n",
    "print(myList[-1])     \n",
    "print(myList[2:4])    \n",
    "print(myList[3:])     \n",
    "print(myList[:3])     \n",
    "print(myList[::2])"
   ]
  },
  {
   "cell_type": "code",
   "execution_count": 30,
   "id": "625558ad-2431-40c9-86b7-312911add1e2",
   "metadata": {},
   "outputs": [
    {
     "name": "stdout",
     "output_type": "stream",
     "text": [
      "영어 합 : 252.3, 영어 평균 : 84.1\n",
      "수학 합 : 278.5, 수학 평균 : 92.8333\n"
     ]
    }
   ],
   "source": [
    "marks=[\n",
    "    ['names', 'subjects','scores'],\n",
    "    ['김하나','English', 100],\n",
    "    ['김하나','Math', 80],\n",
    "    ['임하나','English', 70],\n",
    "    ['임하나','Math', 100],\n",
    "    ['김갑돌','English', 82.3],\n",
    "    ['김갑돌','Math', 98.5]\n",
    "]\n",
    "\n",
    "english=0\n",
    "englishmany=0\n",
    "math=0\n",
    "mathmany=0\n",
    "for i in marks:\n",
    "    if i[1]=='English':\n",
    "        english+=i[2]\n",
    "        englishmany+=1\n",
    "    elif i[1]=='Math':\n",
    "        math+=i[2]\n",
    "        mathmany+=1\n",
    "        \n",
    "print(\"영어 합 : %g, 영어 평균 : %g\"%(english,english/englishmany))\n",
    "print(\"수학 합 : %g, 수학 평균 : %g\"%(math,math/mathmany))"
   ]
  },
  {
   "cell_type": "code",
   "execution_count": 32,
   "id": "5748dc0d-ade1-451d-914f-4b1c4541a493",
   "metadata": {
    "scrolled": true
   },
   "outputs": [
    {
     "name": "stdout",
     "output_type": "stream",
     "text": [
      "{'jsl': 'G405', 'bigData': 'G307'}\n",
      "dict_values(['G405', 'G307'])\n",
      "dict_keys(['jsl', 'bigData'])\n"
     ]
    }
   ],
   "source": [
    "room={'jsl':\"G405\", 'bigData':\"G307\"}\n",
    "print(room)\n",
    "print(room.values())\n",
    "print(room.keys())"
   ]
  },
  {
   "cell_type": "code",
   "execution_count": 35,
   "id": "1f346ea6-47e1-4dcb-a23c-5632a071fea9",
   "metadata": {},
   "outputs": [
    {
     "name": "stdout",
     "output_type": "stream",
     "text": [
      "int defaultdict: defaultdict(<class 'int'>, {'a': 10, 'b': 12, 'c': 13})\n",
      "<class 'int'>\n"
     ]
    }
   ],
   "source": [
    "from collections import defaultdict\n",
    "\n",
    "myDictInt = defaultdict(int) \n",
    "d_int = defaultdict(int, a=10, b=12, c=13)\n",
    "print(\"int defaultdict:\",d_int)\n",
    "print(myDictInt.default_factory)"
   ]
  },
  {
   "cell_type": "code",
   "execution_count": 42,
   "id": "4ecbe6ec-9c14-43ce-bf1e-20b65433c2e6",
   "metadata": {},
   "outputs": [
    {
     "name": "stdout",
     "output_type": "stream",
     "text": [
      "dict_items([('m', 1), ('i', 4), ('s', 4), ('p', 2)])\n",
      "defaultdict(<class 'int'>, {'m': 1, 'i': 4, 's': 4, 'p': 2})\n"
     ]
    }
   ],
   "source": [
    "from collections import defaultdict\n",
    "\n",
    "s = 'mississippi'\n",
    "d = defaultdict(int)\n",
    "\n",
    "for k in s:\n",
    "     d[k] += 1\n",
    "print(d.items())\n",
    "print(d)"
   ]
  },
  {
   "cell_type": "code",
   "execution_count": 44,
   "id": "9d144450-9e7f-4d24-9b64-ab56b31ec652",
   "metadata": {},
   "outputs": [
    {
     "name": "stdout",
     "output_type": "stream",
     "text": [
      "defaultdict(<class 'int'>, {'This': 1, 'is': 2, 'really': 2, 'fun!': 1, 'Programming': 1, 'a': 1, 'fun': 1, 'and': 1, 'I': 1, 'enjoy': 1, 'it.': 1})\n"
     ]
    }
   ],
   "source": [
    "myDictInt=defaultdict(int)\n",
    "sentence=\"This is really fun! Programming is a fun and I really enjoy it.\"\n",
    "for word in sentence.split():\n",
    "    myDictInt[word]+=1\n",
    "print(myDictInt)"
   ]
  },
  {
   "cell_type": "code",
   "execution_count": 45,
   "id": "1ec5a2c8-fa2f-437d-ab0b-5a29f47a3895",
   "metadata": {},
   "outputs": [
    {
     "name": "stdout",
     "output_type": "stream",
     "text": [
      "C:\\Users\\DB400T9A-PC\\Downloads\\python.txt\n"
     ]
    }
   ],
   "source": [
    "import os\n",
    "mydir=os.getcwd()\n",
    "filename='python.txt'\n",
    "myfilename=os.path.join(mydir,filename)\n",
    "print(myfilename)"
   ]
  },
  {
   "cell_type": "code",
   "execution_count": 49,
   "id": "bba5ab69-2b0b-45b4-9e9c-486427e65c8b",
   "metadata": {},
   "outputs": [],
   "source": [
    "hangul=\"\"\"\n",
    "파이썬[1](Python)은 1991년[2] 프로그래머인 귀도 반 로섬(Guido van Rossum)[3] 이 발표한 고급 프로그래밍 언어로,\n",
    "플랫폼 독립적이며 인터프리터식, 객체지향적, 동적 타이핑(dynamically typed) 대화형 언어이다.\n",
    "파이썬이라는 이름은 귀도가 좋아하는 코미디 〈Monty Python's Flying Circus〉에서 따온 것이다.\n",
    "파이썬은 비영리의 파이썬 소프트웨어 재단이 관리하는 개방형, 공동체 기반 개발 모델을 가지고 있다.\n",
    "C언어로 구현된 C파이썬 구현이 사실상의 표준이다.\n",
    "\"\"\"\n",
    "\n",
    "fout=open('pywikikorean.txt','w',encoding='UTF-8')\n",
    "for line in hangul:\n",
    "    fout.write(line)\n",
    "fout.close()"
   ]
  },
  {
   "cell_type": "code",
   "execution_count": 50,
   "id": "536e9910-56f7-41be-acf2-6c38028b966f",
   "metadata": {},
   "outputs": [
    {
     "name": "stdout",
     "output_type": "stream",
     "text": [
      "9\n",
      "3\n"
     ]
    }
   ],
   "source": [
    "y=lambda x:x**2\n",
    "print(y(3))\n",
    "\n",
    "f=lambda x,y: x+y\n",
    "res=f(1,2)\n",
    "print(res)"
   ]
  },
  {
   "cell_type": "code",
   "execution_count": 56,
   "id": "da68bfae-89d9-4d5b-81ad-5544413eb49a",
   "metadata": {
    "scrolled": true
   },
   "outputs": [
    {
     "name": "stdout",
     "output_type": "stream",
     "text": [
      "[102.56, 97.7, 99.14, 100.03999999999999]\n"
     ]
    },
    {
     "data": {
      "text/plain": [
       "5050"
      ]
     },
     "execution_count": 56,
     "metadata": {},
     "output_type": "execute_result"
    }
   ],
   "source": [
    "celsius = [39.2, 36.5, 37.3, 37.8]\n",
    "f=map(lambda c:(float(9)/5)*c + 32, celsius)\n",
    "\n",
    "print(list(f))\n",
    "\n",
    "list(map(lambda x:x.split(), \"Hello World\"))\n",
    "\n",
    "from functools import reduce\n",
    "reduce(lambda x, y: x + y, range(1,101))"
   ]
  },
  {
   "cell_type": "code",
   "execution_count": 65,
   "id": "a81004cb-ec5c-4273-b57d-5c32c0b2f57c",
   "metadata": {},
   "outputs": [
    {
     "name": "stdout",
     "output_type": "stream",
     "text": [
      "Overwriting myRead.py\n"
     ]
    }
   ],
   "source": [
    "%%writefile myRead.py\n",
    "import os\n",
    "\n",
    "print(os.getcwd())\n",
    "f=open('myRead.py','r')\n",
    "lineNum=0\n",
    "for line in f.readlines():\n",
    "    lineNum+=1\n",
    "    print(lineNum,\"-\",line)\n",
    "f.close()"
   ]
  },
  {
   "cell_type": "code",
   "execution_count": 75,
   "id": "3df14f2a-de3f-4845-af4d-a52e34aabf58",
   "metadata": {},
   "outputs": [
    {
     "name": "stdout",
     "output_type": "stream",
     "text": [
      "Overwriting myTestLib.py\n"
     ]
    }
   ],
   "source": [
    "%%writefile myTestLib.py\n",
    "def myPrint():\n",
    "   print('This is my test function in myTestLib.py')    "
   ]
  },
  {
   "cell_type": "code",
   "execution_count": 76,
   "id": "fa553bfd-2946-4a17-936a-7d86336401a5",
   "metadata": {},
   "outputs": [
    {
     "name": "stdout",
     "output_type": "stream",
     "text": [
      "This is my test function in myTestLib.py\n"
     ]
    }
   ],
   "source": [
    "import myTestLib\n",
    "myTestLib.myPrint()"
   ]
  },
  {
   "cell_type": "code",
   "execution_count": 91,
   "id": "c8df11f5-2b97-42e6-a97c-7f4873851a9c",
   "metadata": {},
   "outputs": [
    {
     "name": "stdout",
     "output_type": "stream",
     "text": [
      "[0 1 2 3 4 5 6 7 8 9] \n",
      "\n",
      "[[0. 0. 0.]\n",
      " [0. 0. 0.]] \n",
      "\n",
      "[[1. 0. 0. 0.]\n",
      " [0. 1. 0. 0.]\n",
      " [0. 0. 1. 0.]\n",
      " [0. 0. 0. 1.]] \n",
      "\n",
      "shape:(3,) size:3\n",
      "shape: (2, 3) ndim: 2\n",
      "(2, 2, 3) \n",
      "\n",
      "[[1. 1. 1.]\n",
      " [1. 1. 1.]\n",
      " [1. 1. 1.]]\n",
      "1.0\n",
      "1.0 \n",
      "\n",
      "xshape: (2, 3)\n",
      "[[1 2]\n",
      " [4 5]] \n",
      "\n",
      "[2 4 6]\n"
     ]
    }
   ],
   "source": [
    "import numpy as np\n",
    "c = np.arange(10)\n",
    "print(c,\"\\n\") \n",
    "d = np.zeros((2, 3))\n",
    "print(d,\"\\n\")\n",
    "f = np.eye(4)\n",
    "print(f,\"\\n\")\n",
    "\n",
    "a = np.array([1, 2, 3])\n",
    "print(f\"shape:{a.shape} size:{a.size}\")\n",
    "\n",
    "b = np.array([[1, 2, 3], [4, 5, 6]])\n",
    "print(f\"shape: {b.shape} ndim: {b.ndim}\")\n",
    "\n",
    "c = np.array([[[1, 2, 3], [4, 5, 6]], [[7, 8, 9], [10, 11, 12]]])\n",
    "print(c.shape,\"\\n\")\n",
    "\n",
    "f = np.ones((3, 3))\n",
    "print(f)\n",
    "\n",
    "print(f[0][1])\n",
    "print(f[0,1],\"\\n\")\n",
    "\n",
    "x=np.array([[1,2,3],[4,5,6]])\n",
    "print(f\"xshape: {x.shape}\")\n",
    "print(x[:,:-1],\"\\n\")\n",
    "print(x[x%2==0])"
   ]
  },
  {
   "cell_type": "code",
   "execution_count": 92,
   "id": "0c10893a-31e3-4617-ad3b-c2645d8c21a0",
   "metadata": {},
   "outputs": [
    {
     "name": "stdout",
     "output_type": "stream",
     "text": [
      "[[1 2 3]\n",
      " [7 8 9]]\n"
     ]
    }
   ],
   "source": [
    "A = np.array([[1, 2, 3],\n",
    "              [4, 5, 6],\n",
    "              [7, 8, 9]])\n",
    "B = np.delete(A, 1, axis=0)\n",
    "print(B)"
   ]
  },
  {
   "cell_type": "code",
   "execution_count": 93,
   "id": "460ebf95-1e7a-492c-b215-1a984e4fdabd",
   "metadata": {},
   "outputs": [
    {
     "name": "stdout",
     "output_type": "stream",
     "text": [
      "[ 7. 10. 10.]\n",
      "[-5. -6. -4.]\n",
      "[ 6. 16. 21.]\n",
      "[6.         4.         2.33333333]\n",
      "[1. 2. 3.]\n",
      "[  6.  64. 343.]\n"
     ]
    }
   ],
   "source": [
    "a = np.array([1, 2, 3], float)\n",
    "b = np.array([6, 8, 7], float)\n",
    "print(a + b)\n",
    "\n",
    "print(a - b)\n",
    "\n",
    "print(a * b)\n",
    "\n",
    "print(b / a)\n",
    "\n",
    "print(a % b)\n",
    "\n",
    "print(b ** a)"
   ]
  },
  {
   "cell_type": "code",
   "execution_count": 96,
   "id": "8fcbfe1d-5a39-4f54-af3b-3c07ac1885e4",
   "metadata": {},
   "outputs": [
    {
     "name": "stdout",
     "output_type": "stream",
     "text": [
      "15.0\n",
      "120.0\n",
      "15.0\n",
      "120.0\n",
      "0\n",
      "4 \n",
      "\n",
      "sum0:  [5 7 9]\n",
      "sum1:  [ 6 15]\n",
      "평균0:  [2.5 3.5 4.5]\n",
      "평균1:  [2. 5.]\n",
      "min0:  [1 2 3]\n",
      "min1:  [3 6]\n"
     ]
    }
   ],
   "source": [
    "v = np.array([1, 2, 3, 4, 5], float)\n",
    "\n",
    "print(v.sum()) \n",
    "print(v.prod())\n",
    "\n",
    "print(np.sum(v))\n",
    "print(np.prod(v))\n",
    "\n",
    "print(v.argmin())\n",
    "print(v.argmax(),\"\\n\")\n",
    "\n",
    "w = np.array([[1, 2, 3], [4, 5, 6]])\n",
    "print(\"sum0: \", w.sum(axis=0)) \n",
    "print(\"sum1: \", w.sum(axis=1)) \n",
    "\n",
    "print(\"평균0: \", w.mean(axis=0))  \n",
    "\n",
    "print(\"평균1: \", w.mean(axis=1))  \n",
    " \n",
    "print(\"min0: \", w.min(axis=0))   \n",
    "\n",
    "print(\"min1: \", w.max(axis=1))   "
   ]
  }
 ],
 "metadata": {
  "kernelspec": {
   "display_name": "Python 3 (ipykernel)",
   "language": "python",
   "name": "python3"
  },
  "language_info": {
   "codemirror_mode": {
    "name": "ipython",
    "version": 3
   },
   "file_extension": ".py",
   "mimetype": "text/x-python",
   "name": "python",
   "nbconvert_exporter": "python",
   "pygments_lexer": "ipython3",
   "version": "3.9.0"
  }
 },
 "nbformat": 4,
 "nbformat_minor": 5
}
